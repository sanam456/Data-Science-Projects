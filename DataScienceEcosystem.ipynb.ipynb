{
 "cells": [
  {
   "cell_type": "markdown",
   "id": "0e78d65a-e373-4541-ba1d-a892ab65883d",
   "metadata": {},
   "source": [
    "# Data Science Tools and Ecosystem"
   ]
  },
  {
   "cell_type": "markdown",
   "id": "bdd2ba8c-6bb4-49ea-8f0c-971fe6e533f0",
   "metadata": {},
   "source": [
    "In this notebook, Data Science Tools and Ecosystem are summarized."
   ]
  },
  {
   "cell_type": "markdown",
   "id": "85c62c2f-4931-431a-a9e5-06abf30cdbd9",
   "metadata": {},
   "source": [
    "Some of the popular languages that Data Scientists use are:\n",
    "    1. python\n",
    "    2. R language\n",
    "    3. Java Script"
   ]
  },
  {
   "cell_type": "markdown",
   "id": "4be45acc-1431-4ad1-b63e-94e281fd6027",
   "metadata": {},
   "source": [
    "Some of the commonly used libraries used by Data Scientists include:\n",
    "1. NumPy\n",
    "2. Pandas\n",
    "3. Tensor Flow\n",
    "4. Keras\n",
    "5. SciPy"
   ]
  },
  {
   "cell_type": "markdown",
   "id": "f7c0dc9a-bfe2-4a0e-906d-f6d16dcbfbe0",
   "metadata": {},
   "source": [
    "| Data Science Tools| \n",
    "|------|\n",
    "|   JupyterNotebook  | \n",
    "|   RStudio IDE  | \n",
    "|   Apache spark  | "
   ]
  },
  {
   "cell_type": "markdown",
   "id": "d6f53168-6a09-4c04-9165-365b2568d232",
   "metadata": {},
   "source": [
    "## Below are a few examples of evaluating arithmetic expressions in Python"
   ]
  },
  {
   "cell_type": "code",
   "execution_count": 2,
   "id": "263ebf19-11fa-49f3-b5d0-e400928ac5ea",
   "metadata": {},
   "outputs": [
    {
     "data": {
      "text/plain": [
       "17"
      ]
     },
     "execution_count": 2,
     "metadata": {},
     "output_type": "execute_result"
    }
   ],
   "source": [
    "(3*4)+5  #This a simple arithmetic expression to mutiply then add integers"
   ]
  },
  {
   "cell_type": "code",
   "execution_count": 4,
   "id": "cf6c63cc-b8be-4d7e-ace0-13f57ba3f4a4",
   "metadata": {},
   "outputs": [
    {
     "data": {
      "text/plain": [
       "' There are 3 hrs.'"
      ]
     },
     "execution_count": 4,
     "metadata": {},
     "output_type": "execute_result"
    }
   ],
   "source": [
    "a= 200//60    #This will convert 200 minutes to hours by diving by 60.\n",
    "f\" There are {a} hrs.\"  "
   ]
  },
  {
   "cell_type": "markdown",
   "id": "1a270a60-5bae-4e9c-8684-509dbad7860e",
   "metadata": {},
   "source": [
    "**Objectives: \n",
    "         * Arthematic operations\n",
    "         * Popular data science languages\n",
    "         * Popular tools"
   ]
  },
  {
   "cell_type": "markdown",
   "id": "c84ffb54-2805-4e15-a872-997d361bb82d",
   "metadata": {},
   "source": [
    "## Sana Jahangir"
   ]
  },
  {
   "cell_type": "code",
   "execution_count": null,
   "id": "3729106d-ad62-4076-bd81-3d655e01f628",
   "metadata": {},
   "outputs": [],
   "source": []
  }
 ],
 "metadata": {
  "kernelspec": {
   "display_name": "Python",
   "language": "python",
   "name": "conda-env-python-py"
  },
  "language_info": {
   "codemirror_mode": {
    "name": "ipython",
    "version": 3
   },
   "file_extension": ".py",
   "mimetype": "text/x-python",
   "name": "python",
   "nbconvert_exporter": "python",
   "pygments_lexer": "ipython3",
   "version": "3.7.12"
  }
 },
 "nbformat": 4,
 "nbformat_minor": 5
}
